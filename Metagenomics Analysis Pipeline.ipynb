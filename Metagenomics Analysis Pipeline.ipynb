{
 "cells": [
  {
   "cell_type": "markdown",
   "metadata": {},
   "source": [
    "# 16s rRNA Microbiome Analysis Pipeline Using QIIME2"
   ]
  },
  {
   "cell_type": "markdown",
   "metadata": {},
   "source": [
    "This pipeline uses QIIME2 to analyse 16S rRNA gene amplicon single end or paired end sequences to produce taxonomy plots and feature tables to analyse the microbiome of the sample. Data can then be exported and analysed on external microbiome analytic tools, such as STAMP."
   ]
  },
  {
   "cell_type": "markdown",
   "metadata": {},
   "source": [
    "### Set up sample"
   ]
  },
  {
   "cell_type": "markdown",
   "metadata": {},
   "source": [
    "Data will be manipulated so that it can be registered by QIIME2. Set up sample-metadata using Keemei beforehand to validate the tabular bioinformatics file format."
   ]
  },
  {
   "cell_type": "markdown",
   "metadata": {},
   "source": [
    "#### If Single end..."
   ]
  },
  {
   "cell_type": "markdown",
   "metadata": {},
   "source": [
    "#### Extract barcodes from fastq and create barcode.fastq"
   ]
  },
  {
   "cell_type": "code",
   "execution_count": null,
   "metadata": {},
   "outputs": [],
   "source": [
    "%%bash\n",
    "/home/single_barcode_cut [seqname].fastq"
   ]
  },
  {
   "cell_type": "markdown",
   "metadata": {},
   "source": [
    "#### Remove barcodes from fastq and create sequences.fastq"
   ]
  },
  {
   "cell_type": "code",
   "execution_count": null,
   "metadata": {},
   "outputs": [],
   "source": [
    "%%bash\n",
    "/home/single_barcode_remove [seqname].fastq"
   ]
  },
  {
   "cell_type": "markdown",
   "metadata": {},
   "source": [
    "#### Gzip fastq files"
   ]
  },
  {
   "cell_type": "code",
   "execution_count": null,
   "metadata": {},
   "outputs": [],
   "source": [
    "%%bash\n",
    "gzip sequences.fastq\n",
    "gzip barcodes.fastq"
   ]
  },
  {
   "cell_type": "markdown",
   "metadata": {},
   "source": [
    "#### If Paired end..."
   ]
  },
  {
   "cell_type": "markdown",
   "metadata": {},
   "source": [
    "Rename forward and reverse sequences to og_forward.fastq and reverse.fastq respectively"
   ]
  },
  {
   "cell_type": "markdown",
   "metadata": {},
   "source": [
    "#### Create barcodes.fastq from og_forward.fastq"
   ]
  },
  {
   "cell_type": "code",
   "execution_count": null,
   "metadata": {},
   "outputs": [],
   "source": [
    "%%bash\n",
    "/home/barcode_cut.py og_forward.fastq"
   ]
  },
  {
   "cell_type": "markdown",
   "metadata": {},
   "source": [
    "#### Remove barcodes from og_forward.fastq and create forward.fastq"
   ]
  },
  {
   "cell_type": "code",
   "execution_count": null,
   "metadata": {},
   "outputs": [],
   "source": [
    "%%bash\n",
    "/home/barcode_remove og_forward.fastq"
   ]
  },
  {
   "cell_type": "markdown",
   "metadata": {},
   "source": [
    "#### Gzip forward.fastq, reverse.fastq and barcode.fastq"
   ]
  },
  {
   "cell_type": "code",
   "execution_count": null,
   "metadata": {},
   "outputs": [],
   "source": [
    "%%bash\n",
    "gzip forward.fastq\n",
    "gzip reverse.fastq\n",
    "gzip barcodes.fastq"
   ]
  },
  {
   "cell_type": "markdown",
   "metadata": {},
   "source": [
    "### Install latest version of QIIME2"
   ]
  },
  {
   "cell_type": "code",
   "execution_count": null,
   "metadata": {},
   "outputs": [],
   "source": [
    "#conda update conda\n",
    "#conda install wget\n",
    "#wget https://data.qiime2.org/distro/core/qiime2-2020.6-py36-linux-conda.yml\n",
    "#conda env create -n qiime2-2020.6 --file qiime2-2020.6-py36-linux-conda.yml\n",
    "##Cleanup\n",
    "#rm qiime2-2020.6-py36-linux-conda.yml"
   ]
  },
  {
   "cell_type": "markdown",
   "metadata": {},
   "source": [
    "#### Activate conda environmemt and insure installation worked"
   ]
  },
  {
   "cell_type": "code",
   "execution_count": null,
   "metadata": {},
   "outputs": [],
   "source": [
    "%%bash\n",
    "conda activate qiime2-2020.6\n",
    "qiime --help"
   ]
  },
  {
   "cell_type": "markdown",
   "metadata": {},
   "source": [
    "### Move and rename sequences"
   ]
  },
  {
   "cell_type": "markdown",
   "metadata": {},
   "source": [
    "Manipulated data will now be converted into a .qza folder, which will include the sequence(s) and barcode fastq.gz"
   ]
  },
  {
   "cell_type": "markdown",
   "metadata": {},
   "source": [
    "If single end..."
   ]
  },
  {
   "cell_type": "code",
   "execution_count": null,
   "metadata": {},
   "outputs": [],
   "source": [
    "import shutil\n",
    "mkdir emp-single-end-sequences\n",
    "sequences = '/home/sequences.fastq.gz'\n",
    "barcode = '/home/barcodes.fastq.gz'\n",
    "new_path = '/home/emp-single-end-sequences'\n",
    "shutil.move(sequences, new_path)\n",
    "shutil.move(barcode, new_path)"
   ]
  },
  {
   "cell_type": "code",
   "execution_count": null,
   "metadata": {},
   "outputs": [],
   "source": [
    "%%bash\n",
    "qiime tools import \\\n",
    "  --type EMPSingleEndSequences \\\n",
    "  --input-path emp-single-end-sequences \\\n",
    "  --output-path emp-single-end-sequences.qza"
   ]
  },
  {
   "cell_type": "markdown",
   "metadata": {},
   "source": [
    "If paired end..."
   ]
  },
  {
   "cell_type": "code",
   "execution_count": null,
   "metadata": {},
   "outputs": [],
   "source": [
    "mkdir emp-paired-end-sequences\n",
    "forward = '/home/aran/Desktop/Project/forward.fastq.gz'\n",
    "reverse = '/home/reverse.fastq.gz'\n",
    "barcode = '/home/barcodes.fastq.gz'\n",
    "new_path = '/home/emp-paired-end-sequences'\n",
    "shutil.move(forward, new_path)\n",
    "shutil.move(reverse, new_path)\n",
    "shutil.move(barcode, new_path)"
   ]
  },
  {
   "cell_type": "code",
   "execution_count": null,
   "metadata": {},
   "outputs": [],
   "source": [
    "%%bash\n",
    "qiime tools import \\\n",
    "  --type EMPPairedEndSequences \\\n",
    "  --input-path emp-paired-end-sequences \\\n",
    "  --output-path emp-paired-end-sequences.qza"
   ]
  },
  {
   "cell_type": "markdown",
   "metadata": {},
   "source": [
    "### Demultiplexing sequences"
   ]
  },
  {
   "cell_type": "markdown",
   "metadata": {},
   "source": [
    "Demultiplex sequence using the barcode information from the sample-metadata.tsv to determine sequences. This barcode used in the sample is expected to follow the Earth Microbiome Project protocol.\n",
    "\n",
    "The first output 'demux.qza' will contain the demultiplexed sequences.\n",
    "\n",
    "The second output 'demux-details.qza' will contain Golay error correction details"
   ]
  },
  {
   "cell_type": "markdown",
   "metadata": {},
   "source": [
    "#### Single end"
   ]
  },
  {
   "cell_type": "code",
   "execution_count": null,
   "metadata": {},
   "outputs": [],
   "source": [
    "%%bash\n",
    "qiime demux emp-single \\\n",
    "  --i-seqs emp-single-end-sequences.qza \\\n",
    "  --m-barcodes-file sample-metadata.tsv \\\n",
    "  --m-barcodes-column barcode-sequence \\\n",
    "  --o-per-sample-sequences demux.qza \\\n",
    "  --o-error-correction-details demux-details.qza"
   ]
  },
  {
   "cell_type": "markdown",
   "metadata": {},
   "source": [
    "#### Paired end"
   ]
  },
  {
   "cell_type": "code",
   "execution_count": null,
   "metadata": {},
   "outputs": [],
   "source": [
    "%%bash\n",
    "qiime demux emp-paired \\\n",
    "    --i-seqs emp-paired-end-sequences.qza \\\n",
    "    --m-barcodes-file sample-metadata.tsv \\\n",
    "    --m-barcodes-column barcode-sequence \\\n",
    "    --o-per-sample-sequences demux.qza \\\n",
    "    --o-error-correction-details demux-details.qza"
   ]
  },
  {
   "cell_type": "markdown",
   "metadata": {},
   "source": [
    "#### Demux summary"
   ]
  },
  {
   "cell_type": "markdown",
   "metadata": {},
   "source": [
    "Generate a summary of the demultiplexing results to observe number of sequences per sample and obsereve sequence quality"
   ]
  },
  {
   "cell_type": "code",
   "execution_count": null,
   "metadata": {},
   "outputs": [],
   "source": [
    "%%bash\n",
    "qiime demux summarize \\\n",
    "  --i-data demux.qza \\\n",
    "  --o-visualization demux.qzv"
   ]
  },
  {
   "cell_type": "markdown",
   "metadata": {},
   "source": [
    "### Sequence quality control and feature table construction"
   ]
  },
  {
   "cell_type": "markdown",
   "metadata": {},
   "source": [
    "QC data using DADA2 - used to remove markers and filter chimeric sequences.\n",
    "\n",
    "--p-trim-left m: trims first m bases\n",
    "\n",
    "--p-trunc-len n: truncates to n size\n",
    "\n",
    "Observe Interactive Quality Plot tab in the demux.qzv to determine m and n. \n",
    "\n",
    "The first output 'rep-seqs.qza' will contain a FeatureData[Sequence] used to map feature identifiers in the FeatureTable to the sequences they represent.\n",
    "\n",
    "The second output 'table.qza' will contain a frequency table of each unique sequence in each sample in the dataset.\n",
    "\n",
    "The third output 'stats-dada2.qza' will have a statistical summary of the denoising."
   ]
  },
  {
   "cell_type": "markdown",
   "metadata": {},
   "source": [
    "#### Single end"
   ]
  },
  {
   "cell_type": "code",
   "execution_count": null,
   "metadata": {},
   "outputs": [],
   "source": [
    "%%bash\n",
    "qiime dada2 denoise-single \\\n",
    "  --i-demultiplexed-seqs demux.qza \\\n",
    "  --p-trim-left 0 \\\n",
    "  --p-trunc-len 120 \\\n",
    "  --o-representative-sequences rep-seqs.qza \\\n",
    "  --o-table table.qza \\\n",
    "  --o-denoising-stats stats-dada2.qza"
   ]
  },
  {
   "cell_type": "markdown",
   "metadata": {},
   "source": [
    "#### Paired end"
   ]
  },
  {
   "cell_type": "markdown",
   "metadata": {},
   "source": [
    "Added forward and reverse trim and trunc functions"
   ]
  },
  {
   "cell_type": "code",
   "execution_count": null,
   "metadata": {},
   "outputs": [],
   "source": [
    "%%bash\n",
    "qiime dada2 denoise-paired \\\n",
    "  --i-demultiplexed-seqs demux.qza \\\n",
    "  --p-trim-left-f [m] \\\n",
    "  --p-trim-left-r [m] \\\n",
    "  --p-trunc-l-len [n] \\\n",
    "  --p-trunc-r-len [n] \\\n",
    "  --o-representative-sequences rep-seqs.qza \\\n",
    "  --o-table table.qza \\\n",
    "  --o-denoising-stats stats-dada2.qza"
   ]
  },
  {
   "cell_type": "markdown",
   "metadata": {},
   "source": [
    "#### Generate table of statistics"
   ]
  },
  {
   "cell_type": "code",
   "execution_count": null,
   "metadata": {},
   "outputs": [],
   "source": [
    "%%bash\n",
    "qiime metadata tabulate \\\n",
    "  --m-input-file stats-dada2.qza \\\n",
    "  --o-visualization stats-dada2.qzv"
   ]
  },
  {
   "cell_type": "markdown",
   "metadata": {},
   "source": [
    "### FeatureTable and FeatureData summaries"
   ]
  },
  {
   "cell_type": "markdown",
   "metadata": {},
   "source": [
    "This step will be used on the outputs rep-seqs.qza and table.qza to create visual summaries of the QC'd data within these .qza folders.\n",
    "\n",
    "feature-table tabulate-seqs used to provide links to easily BLAST each sequence against the NCBI nt database as wel as to create histograms of distrabutions and summary statistics."
   ]
  },
  {
   "cell_type": "code",
   "execution_count": null,
   "metadata": {},
   "outputs": [],
   "source": [
    "%%bash\n",
    "qiime feature-table summarize \\\n",
    "  --i-table table.qza \\\n",
    "  --o-visualization table.qzv \\\n",
    "  --m-sample-metadata-file sample-metadata.tsv\n",
    "qiime feature-table tabulate-seqs \\\n",
    "  --i-data rep-seqs.qza \\\n",
    "  --o-visualization rep-seqs.qzv"
   ]
  },
  {
   "cell_type": "markdown",
   "metadata": {},
   "source": [
    "### Generate a tree for phylogenetic diversity analyses"
   ]
  },
  {
   "cell_type": "markdown",
   "metadata": {},
   "source": [
    "The mafft program is used to establish multiple sequence alignment of the sequences from FeatureData[Sequence] and filters positions that are highly variable. FastTree is performed to create a phylogenetic tree from the masked alignment.\n",
    "\n",
    "The first output 'aligned-rep-seqs.qza' will create FeatureData[AlignedSequence] from FeatureData[Sequence].\n",
    "\n",
    "The second output 'masked-aligned-rep-seqs.qza' will create FeatureData[AlignedSequence] which removes positions that are highly variable.\n",
    "\n",
    "The third output 'unrooted-tree.qza' will create an unrooted phylogenetic tree from the masked FeatureData[AlignedSequence].\n",
    "\n",
    "The fourth output 'rooted-tree.qza' will create an rooted phylogenetic tree from the masked FeatureData[AlignedSequence]."
   ]
  },
  {
   "cell_type": "code",
   "execution_count": null,
   "metadata": {},
   "outputs": [],
   "source": [
    "%%bash\n",
    "qiime phylogeny align-to-tree-mafft-fasttree \\\n",
    "  --i-sequences rep-seqs.qza \\\n",
    "  --o-alignment aligned-rep-seqs.qza \\\n",
    "  --o-masked-alignment masked-aligned-rep-seqs.qza \\\n",
    "  --o-tree unrooted-tree.qza \\\n",
    "  --o-rooted-tree rooted-tree.qza"
   ]
  },
  {
   "cell_type": "markdown",
   "metadata": {},
   "source": [
    "### Alpha and beta diversity analysis"
   ]
  },
  {
   "cell_type": "markdown",
   "metadata": {},
   "source": [
    "This next step will generate numerous outputs to allow for Alpha and beta diversity analysis. The main outputs generated are:\n",
    "\n",
    "Alpha diversity:\n",
    "\n",
    "    Shannon’s diversity index\n",
    "    Observed Features\n",
    "    Faith’s Phylogenetic Diversity\n",
    "    Pielou’s Evenness\n",
    "    \n",
    "Beta diversity:\n",
    "\n",
    "    Jaccard distance\n",
    "    Bray-Curtis distance\n",
    "    unweighted UniFrac distance\n",
    "    weighted UniFrac distance\n",
    "    \n",
    "The --p-sampling-depth p parameter is observed from the table.qzv file from above. This parameter is important as it will remove any sequences after being sub-sampled that are smaller than lenght p. This will result in data being excluded from taxanomic analysis, therefore it is best to obtain the best value for p to not exclude too much information from your analysis.\n",
    "    "
   ]
  },
  {
   "cell_type": "code",
   "execution_count": null,
   "metadata": {},
   "outputs": [],
   "source": [
    "%%bash\n",
    "qiime diversity core-metrics-phylogenetic \\\n",
    "  --i-phylogeny rooted-tree.qza \\\n",
    "  --i-table table.qza \\\n",
    "  --p-sampling-depth 1103 \\\n",
    "  --m-metadata-file sample-metadata.tsv \\\n",
    "  --output-dir core-metrics-results"
   ]
  },
  {
   "cell_type": "markdown",
   "metadata": {},
   "source": [
    "Check for any links between categorical metadata columns and alpha diversity data using Faith Phylogenetic Diversity, a qualitiative measure of community richness which includes phylogenetic relationships between the features, and Pielou’s Evenness, which measures community evenness."
   ]
  },
  {
   "cell_type": "code",
   "execution_count": null,
   "metadata": {},
   "outputs": [],
   "source": [
    "%%bash\n",
    "qiime diversity alpha-group-significance \\\n",
    "  --i-alpha-diversity core-metrics-results/faith_pd_vector.qza \\\n",
    "  --m-metadata-file sample-metadata.tsv \\\n",
    "  --o-visualization core-metrics-results/faith-pd-group-significance.qzv\n",
    "\n",
    "qiime diversity alpha-group-significance \\\n",
    "  --i-alpha-diversity core-metrics-results/evenness_vector.qza \\\n",
    "  --m-metadata-file sample-metadata.tsv \\\n",
    "  --o-visualization core-metrics-results/evenness-group-significance.qzv"
   ]
  },
  {
   "cell_type": "markdown",
   "metadata": {},
   "source": [
    "Check with unweighted_unifrac_distance_matrix.qza if distances between samples within a group are more similar to each other then they are to samples from the other groups using the --p-pairwise command. This command is based on permutation tests so it is best to reference specific columns in the metadata, i.e body-site and subject from sample metadata."
   ]
  },
  {
   "cell_type": "code",
   "execution_count": null,
   "metadata": {},
   "outputs": [],
   "source": [
    "%%bash\n",
    "qiime diversity beta-group-significance \\\n",
    "  --i-distance-matrix core-metrics-results/unweighted_unifrac_distance_matrix.qza \\\n",
    "  --m-metadata-file sample-metadata.tsv \\\n",
    "  --m-metadata-column body-site \\\n",
    "  --o-visualization core-metrics-results/unweighted-unifrac-body-site-significance.qzv \\\n",
    "  --p-pairwise\n",
    "\n",
    "qiime diversity beta-group-significance \\\n",
    "  --i-distance-matrix core-metrics-results/unweighted_unifrac_distance_matrix.qza \\\n",
    "  --m-metadata-file sample-metadata.tsv \\\n",
    "  --m-metadata-column subject \\\n",
    "  --o-visualization core-metrics-results/unweighted-unifrac-subject-group-significance.qzv \\\n",
    "  --p-pairwise"
   ]
  },
  {
   "cell_type": "markdown",
   "metadata": {},
   "source": [
    "Generate PCoA using Emperor to observe ordination of microbial community composition using unweighted_unifrac_pcoa_results.qza and bray_curtis_pcoa_results.qza and allow for the option to use time as an observation using --p-custom-axes "
   ]
  },
  {
   "cell_type": "code",
   "execution_count": null,
   "metadata": {},
   "outputs": [],
   "source": [
    "%%bash\n",
    "qiime emperor plot \\\n",
    "  --i-pcoa core-metrics-results/unweighted_unifrac_pcoa_results.qza \\\n",
    "  --m-metadata-file sample-metadata.tsv \\\n",
    "  --p-custom-axes days-since-experiment-start \\\n",
    "  --o-visualization core-metrics-results/unweighted-unifrac-emperor-days-since-experiment-start.qzv\n",
    "\n",
    "qiime emperor plot \\\n",
    "  --i-pcoa core-metrics-results/bray_curtis_pcoa_results.qza \\\n",
    "  --m-metadata-file sample-metadata.tsv \\\n",
    "  --p-custom-axes days-since-experiment-start \\\n",
    "  --o-visualization core-metrics-results/bray-curtis-emperor-days-since-experiment-start.qzv"
   ]
  },
  {
   "cell_type": "markdown",
   "metadata": {},
   "source": [
    "### Alpha rarefaction plotting"
   ]
  },
  {
   "cell_type": "markdown",
   "metadata": {},
   "source": [
    "Create two plots from rooted-tree.qza. An alpha rarefaction plot used to determine if the richness of the samples has been fully observed and a visulization that shows the number of samples that remain in each group when the feature table is rarefied to each sampling depth.\n",
    "\n",
    "Examine Frequency per sample within table.qzv to obtain p value for --p-max-depth"
   ]
  },
  {
   "cell_type": "code",
   "execution_count": null,
   "metadata": {},
   "outputs": [],
   "source": [
    "%%bash\n",
    "qiime diversity alpha-rarefaction \\\n",
    "  --i-table table.qza \\\n",
    "  --i-phylogeny rooted-tree.qza \\\n",
    "  --p-max-depth 4000 \\\n",
    "  --m-metadata-file sample-metadata.tsv \\\n",
    "  --o-visualization alpha-rarefaction.qzv"
   ]
  },
  {
   "cell_type": "markdown",
   "metadata": {},
   "source": [
    "### Taxonomic analysis"
   ]
  },
  {
   "cell_type": "markdown",
   "metadata": {},
   "source": [
    "Assign taxonomy to the sequences from the FeatureData[Sequence] within rep-seqs.qza using the classifier gg-13-8-99-515-806-nb-classifier.qza. This classifier uses Greengenes 13_8 99% OTUs. This generates a visualisation of the mapping from sequence to taxonomy."
   ]
  },
  {
   "cell_type": "markdown",
   "metadata": {},
   "source": [
    "Download Greengenes 13_8 99% OTU classifier\n",
    "https://data.qiime2.org/2020.6/common/gg-13-8-99-515-806-nb-classifier.qza"
   ]
  },
  {
   "cell_type": "code",
   "execution_count": null,
   "metadata": {},
   "outputs": [],
   "source": [
    "%%bash\n",
    "qiime feature-classifier classify-sklearn \\\n",
    "  --i-classifier gg-13-8-99-515-806-nb-classifier.qza \\\n",
    "  --i-reads rep-seqs.qza \\\n",
    "  --o-classification taxonomy.qza\n",
    "\n",
    "qiime metadata tabulate \\\n",
    "  --m-input-file taxonomy.qza \\\n",
    "  --o-visualization taxonomy.qzv"
   ]
  },
  {
   "cell_type": "markdown",
   "metadata": {},
   "source": [
    "Generate interactive barplots to observe taxonomic composition."
   ]
  },
  {
   "cell_type": "code",
   "execution_count": null,
   "metadata": {},
   "outputs": [],
   "source": [
    "%%bash\n",
    "qiime taxa barplot \\\n",
    "  --i-table table.qza \\\n",
    "  --i-taxonomy taxonomy.qza \\\n",
    "  --m-metadata-file sample-metadata.tsv \\\n",
    "  --o-visualization taxa-bar-plots.qzv"
   ]
  }
 ],
 "metadata": {
  "kernelspec": {
   "display_name": "Python 3",
   "language": "python",
   "name": "python3"
  },
  "language_info": {
   "codemirror_mode": {
    "name": "ipython",
    "version": 3
   },
   "file_extension": ".py",
   "mimetype": "text/x-python",
   "name": "python",
   "nbconvert_exporter": "python",
   "pygments_lexer": "ipython3",
   "version": "3.7.4"
  }
 },
 "nbformat": 4,
 "nbformat_minor": 2
}
